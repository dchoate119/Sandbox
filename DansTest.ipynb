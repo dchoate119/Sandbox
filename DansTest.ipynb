{
 "cells": [
  {
   "cell_type": "code",
   "execution_count": 1,
   "id": "95bb14ea",
   "metadata": {},
   "outputs": [
    {
     "name": "stderr",
     "output_type": "stream",
     "text": [
      "2023-08-15 15:29:02.505196: I tensorflow/core/platform/cpu_feature_guard.cc:182] This TensorFlow binary is optimized to use available CPU instructions in performance-critical operations.\n",
      "To enable the following instructions: SSE4.1 SSE4.2 AVX AVX2 AVX_VNNI FMA, in other operations, rebuild TensorFlow with the appropriate compiler flags.\n"
     ]
    },
    {
     "data": {
      "application/javascript": [
       "IPython.notebook.set_autosave_interval(90000)"
      ]
     },
     "metadata": {},
     "output_type": "display_data"
    },
    {
     "name": "stdout",
     "output_type": "stream",
     "text": [
      "Autosaving every 90 seconds\n"
     ]
    }
   ],
   "source": [
    "import numpy as np\n",
    "from matplotlib import pyplot as plt\n",
    "import tensorflow as tf\n",
    "import pykitti\n",
    "from scipy.spatial.transform import Rotation as R\n",
    "\n",
    "import vedo\n",
    "from vedo import *\n",
    "from ipyvtklink.viewer import ViewInteractiveWidget\n",
    "import nbconvert\n",
    "\n",
    "%autosave 90\n",
    "%matplotlib notebook"
   ]
  },
  {
   "cell_type": "code",
   "execution_count": 2,
   "id": "6c6a0f75",
   "metadata": {},
   "outputs": [],
   "source": [
    "# A = np.random.randn(1_000,3)"
   ]
  },
  {
   "cell_type": "code",
   "execution_count": 18,
   "id": "7be90e2a",
   "metadata": {
    "scrolled": false
   },
   "outputs": [],
   "source": [
    "# Load KITTI sample dataset\n",
    "# Locate dataset through base directory \n",
    "basedir = \"/home/danielchoate/Documents\"\n",
    "date = '2011_09_26'\n",
    "\n",
    "# urban dataset used in 3D-ICET paper \n",
    "drive = '0005' #life in the big city\n",
    "# drive = '0091' #Matt's favorite- don't use for testing though, we trained here!\n",
    "\n",
    "# Select the index to view \n",
    "idx = 0 #frame index in sequence\n",
    "skip = 1\n",
    "\n",
    "dataset = pykitti.raw(basedir, date, drive)\n",
    "\n",
    "velo1 = dataset.get_velo(idx) # Each scan is a Nx4 array of [x,y,z,reflectance]\n",
    "c1 = velo1[:,:3]\n",
    "velo2 = dataset.get_velo(idx+skip) # Each scan is a Nx4 array of [x,y,z,reflectance]\n",
    "c2 = velo2[:,:3]\n",
    "# c1 = c1[c1[:,2] > -1.5] #ignore ground plane\n",
    "# c2 = c2[c2[:,2] > -1.5] #ignore ground plane\n",
    "c1 = c1[c1[:,2] > -2.] #ignore reflections\n",
    "c2 = c2[c2[:,2] > -2.] #ignore reflections\n",
    "\n",
    "poses0 = dataset.oxts[idx] #<- ID of 1st scan\n",
    "poses1 = dataset.oxts[idx+1] #<- ID of 2nd scan\n",
    "dt = skip*0.10 #mean time between lidar samples\n",
    "OXTS_ground_truth = tf.constant([poses1.packet.vf*dt, -poses1.packet.vl*dt, poses1.packet.vu*dt, poses1.packet.wf*dt, poses1.packet.wl*dt, poses1.packet.wu*dt])"
   ]
  },
  {
   "cell_type": "code",
   "execution_count": 21,
   "id": "26df2794",
   "metadata": {},
   "outputs": [
    {
     "data": {
      "text/plain": [
       "<vedo.plotter.Plotter at 0x7f921dcf87c0>"
      ]
     },
     "execution_count": 21,
     "metadata": {},
     "output_type": "execute_result"
    }
   ],
   "source": [
    "# Define the plot \n",
    "# N determines the window size\n",
    "# Axes determines the axes listed on projection\n",
    "# bg determines the color scheme of the plane background \n",
    "# Must make the scene interactive \n",
    "plt = Plotter(N=1, axes=4, bg=(1,1,1), interactive = True)\n",
    "disp = []\n",
    "\n",
    "# ***Not entirely sure what following two commands control\n",
    "disp.append(Points(c1, c = 'red', r = 4))\n",
    "# disp.append(Points(c2, c = 'blue', r = 3))\n",
    "\n",
    "# *** Further explore rotation matrices\n",
    "Rotation_matrix = R.from_euler('xyz', -OXTS_ground_truth[3:]).as_matrix()\n",
    "# c2_in_c1_frame = c2 + OXTS_ground_truth[:3] #translation only\n",
    "c2_in_c1_frame = c2 @ Rotation_matrix + OXTS_ground_truth[:3]\n",
    "disp.append(Points(c2_in_c1_frame, c = 'blue', r = 3))\n",
    "\n",
    "disp.append(Points([[0.,0.,0.]], c ='purple',r=10))\n",
    "\n",
    "# Show plot and create a title for the plot \n",
    "plt.show(disp, \"test\")\n",
    "\n",
    "# ViewInteractiveWidget(plt.window) \n",
    "# ^^^ only works once, will freeze up notebook\n",
    "#     you will have to kernel (button at top of page) -> restart & clear output to get things working again"
   ]
  },
  {
   "cell_type": "code",
   "execution_count": 7,
   "id": "b858bb20",
   "metadata": {},
   "outputs": [
    {
     "name": "stdout",
     "output_type": "stream",
     "text": [
      "tf.Tensor([ 0.34886387 -0.00547039  0.00110176 -0.00041659  0.00442824  0.01399535], shape=(6,), dtype=float32)\n"
     ]
    }
   ],
   "source": [
    "print(OXTS_ground_truth)"
   ]
  },
  {
   "cell_type": "code",
   "execution_count": 8,
   "id": "cb582631",
   "metadata": {},
   "outputs": [],
   "source": [
    "# Rotation_matrix = R.from_euler('xyz', OXTS_ground_truth[3:]).as_matrix()\n",
    "# print(Rotation_matrix)"
   ]
  },
  {
   "cell_type": "code",
   "execution_count": null,
   "id": "fabad8b4",
   "metadata": {},
   "outputs": [],
   "source": []
  },
  {
   "cell_type": "code",
   "execution_count": null,
   "id": "1d71840d",
   "metadata": {},
   "outputs": [],
   "source": []
  }
 ],
 "metadata": {
  "kernelspec": {
   "display_name": "Python 3 (ipykernel)",
   "language": "python",
   "name": "python3"
  },
  "language_info": {
   "codemirror_mode": {
    "name": "ipython",
    "version": 3
   },
   "file_extension": ".py",
   "mimetype": "text/x-python",
   "name": "python",
   "nbconvert_exporter": "python",
   "pygments_lexer": "ipython3",
   "version": "3.9.17"
  }
 },
 "nbformat": 4,
 "nbformat_minor": 5
}
