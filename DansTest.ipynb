{
 "cells": [
  {
   "cell_type": "code",
   "execution_count": 56,
   "id": "b996df3c",
   "metadata": {},
   "outputs": [
    {
     "data": {
      "application/javascript": [
       "IPython.notebook.set_autosave_interval(90000)"
      ]
     },
     "metadata": {},
     "output_type": "display_data"
    },
    {
     "name": "stdout",
     "output_type": "stream",
     "text": [
      "Autosaving every 90 seconds\n"
     ]
    }
   ],
   "source": [
    "import numpy as np\n",
    "from matplotlib import pyplot as plt\n",
    "import tensorflow as tf\n",
    "\n",
    "from vedo import *\n",
    "from ipyvtklink.viewer import ViewInteractiveWidget\n",
    "import nbconvert\n",
    "\n",
    "%autosave 90"
   ]
  },
  {
   "cell_type": "code",
   "execution_count": 57,
   "id": "34b7df61",
   "metadata": {},
   "outputs": [],
   "source": [
    "# #limit GPU memory ------------------------------------------------\n",
    "# gpus = tf.config.experimental.list_physical_devices('GPU')\n",
    "# print(gpus)\n",
    "# if gpus:\n",
    "#   try:\n",
    "#     memlim = 8*1024\n",
    "#     tf.config.experimental.set_virtual_device_configuration(gpus[0], [tf.config.experimental.VirtualDeviceConfiguration(memory_limit=memlim)])\n",
    "#   except RuntimeError as e:\n",
    "#     print(e)\n",
    "# #-----------------------------------------------------------------"
   ]
  },
  {
   "cell_type": "code",
   "execution_count": 58,
   "id": "22299d11",
   "metadata": {},
   "outputs": [
    {
     "name": "stdout",
     "output_type": "stream",
     "text": [
      "[[-0.32701921  1.85725612 -1.0392801 ]\n",
      " [-0.38216057  0.19564436  0.30139398]\n",
      " [ 1.44413489 -1.1047982   0.77048724]\n",
      " ...\n",
      " [-0.77254479 -0.52042495 -1.02080286]\n",
      " [ 0.27210535  0.57551344  1.85894387]\n",
      " [-1.82321168  1.15079993 -0.08130741]]\n"
     ]
    }
   ],
   "source": [
    "A = np.random.randn(1_000,3)\n",
    "print(A)\n",
    "# B = tf.random.normal([10_000_000])"
   ]
  },
  {
   "cell_type": "code",
   "execution_count": 59,
   "id": "9f6ecb1b",
   "metadata": {},
   "outputs": [],
   "source": [
    "# fig, ax = plt.subplots()\n",
    "# ax.scatter(A)"
   ]
  },
  {
   "cell_type": "code",
   "execution_count": 61,
   "id": "185fb5b1",
   "metadata": {},
   "outputs": [
    {
     "ename": "TypeError",
     "evalue": "cannot create weak reference to 'NoneType' object",
     "output_type": "error",
     "traceback": [
      "\u001b[0;31m---------------------------------------------------------------------------\u001b[0m",
      "\u001b[0;31mTypeError\u001b[0m                                 Traceback (most recent call last)",
      "Cell \u001b[0;32mIn[61], line 7\u001b[0m\n\u001b[1;32m      4\u001b[0m disp\u001b[38;5;241m.\u001b[39mappend(Points(A, c \u001b[38;5;241m=\u001b[39m \u001b[38;5;124m'\u001b[39m\u001b[38;5;124mblue\u001b[39m\u001b[38;5;124m'\u001b[39m, r \u001b[38;5;241m=\u001b[39m \u001b[38;5;241m2\u001b[39m))\n\u001b[1;32m      6\u001b[0m plt\u001b[38;5;241m.\u001b[39mshow(disp, \u001b[38;5;124m\"\u001b[39m\u001b[38;5;124mtest\u001b[39m\u001b[38;5;124m\"\u001b[39m)\n\u001b[0;32m----> 7\u001b[0m \u001b[43mViewInteractiveWidget\u001b[49m\u001b[43m(\u001b[49m\u001b[43mplt\u001b[49m\u001b[38;5;241;43m.\u001b[39;49m\u001b[43mwindow\u001b[49m\u001b[43m)\u001b[49m\n",
      "File \u001b[0;32m~/miniconda3/envs/py39/lib/python3.9/site-packages/ipyvtklink/viewer.py:63\u001b[0m, in \u001b[0;36mViewInteractiveWidget.__init__\u001b[0;34m(self, render_window, log_events, transparent_background, allow_wheel, quality, quick_quality, on_close, **kwargs)\u001b[0m\n\u001b[1;32m     61\u001b[0m     \u001b[38;5;28;01mraise\u001b[39;00m \u001b[38;5;167;01mValueError\u001b[39;00m(\u001b[38;5;124m'\u001b[39m\u001b[38;5;124m`quality` parameter must be between 0 and 100\u001b[39m\u001b[38;5;124m'\u001b[39m)\n\u001b[1;32m     62\u001b[0m \u001b[38;5;28mself\u001b[39m\u001b[38;5;241m.\u001b[39m_quality \u001b[38;5;241m=\u001b[39m quality\n\u001b[0;32m---> 63\u001b[0m \u001b[38;5;28mself\u001b[39m\u001b[38;5;241m.\u001b[39m_render_window \u001b[38;5;241m=\u001b[39m \u001b[43mweakref\u001b[49m\u001b[38;5;241;43m.\u001b[39;49m\u001b[43mref\u001b[49m\u001b[43m(\u001b[49m\u001b[43mrender_window\u001b[49m\u001b[43m)\u001b[49m\n\u001b[1;32m     64\u001b[0m \u001b[38;5;28mself\u001b[39m\u001b[38;5;241m.\u001b[39mrender_window\u001b[38;5;241m.\u001b[39mSetOffScreenRendering(\u001b[38;5;241m1\u001b[39m)  \u001b[38;5;66;03m# Force off screen\u001b[39;00m\n\u001b[1;32m     65\u001b[0m \u001b[38;5;28mself\u001b[39m\u001b[38;5;241m.\u001b[39mtransparent_background \u001b[38;5;241m=\u001b[39m transparent_background\n",
      "\u001b[0;31mTypeError\u001b[0m: cannot create weak reference to 'NoneType' object"
     ]
    }
   ],
   "source": [
    "plt = Plotter(N=1, axes=1, bg=(1,1,1), interactive = True)\n",
    "disp = []\n",
    "\n",
    "disp.append(Points(A, c = 'blue', r = 2))\n",
    "\n",
    "plt.show(disp, \"test\")\n",
    "ViewInteractiveWidget(plt.window)"
   ]
  },
  {
   "cell_type": "code",
   "execution_count": null,
   "id": "4cb97074",
   "metadata": {},
   "outputs": [],
   "source": []
  },
  {
   "cell_type": "code",
   "execution_count": null,
   "id": "01729d6c",
   "metadata": {},
   "outputs": [],
   "source": []
  }
 ],
 "metadata": {
  "kernelspec": {
   "display_name": "Python 3 (ipykernel)",
   "language": "python",
   "name": "python3"
  },
  "language_info": {
   "codemirror_mode": {
    "name": "ipython",
    "version": 3
   },
   "file_extension": ".py",
   "mimetype": "text/x-python",
   "name": "python",
   "nbconvert_exporter": "python",
   "pygments_lexer": "ipython3",
   "version": "3.9.17"
  }
 },
 "nbformat": 4,
 "nbformat_minor": 5
}
